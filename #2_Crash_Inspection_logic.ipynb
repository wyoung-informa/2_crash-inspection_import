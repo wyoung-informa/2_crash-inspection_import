{
 "cells": [
  {
   "cell_type": "markdown",
   "metadata": {},
   "source": [
    "# As of 1/10/2020 need to figure out a way to drop all '\\\\' from the inspection files. Appears that we won't need to do that for crash files"
   ]
  },
  {
   "cell_type": "code",
   "execution_count": 1,
   "metadata": {},
   "outputs": [],
   "source": [
    "import zipfile, re, time"
   ]
  },
  {
   "cell_type": "code",
   "execution_count": 2,
   "metadata": {},
   "outputs": [],
   "source": [
    "import psycopg2 as p\n",
    "import psycopg2.extras as e"
   ]
  },
  {
   "cell_type": "code",
   "execution_count": 3,
   "metadata": {},
   "outputs": [],
   "source": [
    "#conn = p.connect(database = 'fleetseek', user = 'wyoung', password = 'D}av.>qPv^5hx2;^', \n",
    "#                      host = 'development-aurora-cluster.cluster-cbwvaj9awgxt.us-east-1.rds.amazonaws.com', port = 5432)\n",
    "#cur = conn.cursor()"
   ]
  },
  {
   "cell_type": "code",
   "execution_count": 4,
   "metadata": {},
   "outputs": [],
   "source": [
    "start_time = time.time()"
   ]
  },
  {
   "cell_type": "code",
   "execution_count": 46,
   "metadata": {},
   "outputs": [],
   "source": [
    "password = 'Evergreen1'\n",
    "\n",
    "conn = p.connect(database = 'postgres', user = 'postgres', password = password, \n",
    "                       host = 'localhost', port = 5433)\n",
    "\n",
    "cur = conn.cursor()"
   ]
  },
  {
   "cell_type": "markdown",
   "metadata": {},
   "source": [
    "## Stream the text files and use copy_from to insert into a temporary table\n",
    "\n",
    "#### 1/10/2020"
   ]
  },
  {
   "cell_type": "code",
   "execution_count": 6,
   "metadata": {},
   "outputs": [],
   "source": [
    "cur.execute(\"\"\"\n",
    "CREATE TABLE fleetseek.inspection_temp\n",
    "(\n",
    "    inspection_id integer NOT NULL,\n",
    "    dot_number integer,\n",
    "    report_state character varying COLLATE pg_catalog.\"default\",\n",
    "    report_number character varying COLLATE pg_catalog.\"default\",\n",
    "    insp_date date,\n",
    "    insp_start_time time without time zone,\n",
    "    insp_end_time time without time zone,\n",
    "    registration_date date,\n",
    "    region character varying COLLATE pg_catalog.\"default\",\n",
    "    ci_status_code character varying COLLATE pg_catalog.\"default\",\n",
    "    safety_inspector_key character varying COLLATE pg_catalog.\"default\",\n",
    "    location character varying COLLATE pg_catalog.\"default\",\n",
    "    location_desc character varying COLLATE pg_catalog.\"default\",\n",
    "    county_code_state character varying COLLATE pg_catalog.\"default\",\n",
    "    county_code character varying COLLATE pg_catalog.\"default\",\n",
    "    insp_level_id integer,\n",
    "    service_center character varying COLLATE pg_catalog.\"default\",\n",
    "    census_source_id integer,\n",
    "    insp_facility character varying COLLATE pg_catalog.\"default\",\n",
    "    shipper_name character varying COLLATE pg_catalog.\"default\",\n",
    "    shipping_paper_number character varying COLLATE pg_catalog.\"default\",\n",
    "    cargo_tank character varying COLLATE pg_catalog.\"default\",\n",
    "    hazmat_placard_req character varying COLLATE pg_catalog.\"default\",\n",
    "    aspen_version_number character varying COLLATE pg_catalog.\"default\",\n",
    "    snet_version_number character varying COLLATE pg_catalog.\"default\",\n",
    "    snet_search_date date,\n",
    "    alcohol_control_sub character varying COLLATE pg_catalog.\"default\",\n",
    "    drug_intrdctn_search character varying COLLATE pg_catalog.\"default\",\n",
    "    drug_intrdctn_arrests character varying COLLATE pg_catalog.\"default\",\n",
    "    size_weight_enf character varying COLLATE pg_catalog.\"default\",\n",
    "    traffic_enf character varying COLLATE pg_catalog.\"default\",\n",
    "    local_enf_jurisdiction character varying COLLATE pg_catalog.\"default\",\n",
    "    insp_confidence_level character varying COLLATE pg_catalog.\"default\",\n",
    "    pen_cen_match character varying COLLATE pg_catalog.\"default\",\n",
    "    penfield2 character varying COLLATE pg_catalog.\"default\",\n",
    "    penfield3 character varying COLLATE pg_catalog.\"default\",\n",
    "    final_status_date date,\n",
    "    post_acc_ind character varying COLLATE pg_catalog.\"default\",\n",
    "    gross_comb_veh_wt character varying COLLATE pg_catalog.\"default\",\n",
    "    defect_ver character varying COLLATE pg_catalog.\"default\",\n",
    "    oos_defect_ver character varying COLLATE pg_catalog.\"default\",\n",
    "    viol_not_sent integer,\n",
    "    oos_not_sent integer,\n",
    "    viol_total integer,\n",
    "    oos_total integer,\n",
    "    driver_viol_total integer,\n",
    "    driver_oos_total integer,\n",
    "    vehicle_viol_total integer,\n",
    "    vehicle_oos_total integer,\n",
    "    \n",
    "    hazmat_viol_total integer,\n",
    "    hazmat_oos_total integer,\n",
    "    snet_sequence_id integer,\n",
    "    orig_report_state character varying COLLATE pg_catalog.\"default\",\n",
    "    orig_report_number character varying COLLATE pg_catalog.\"default\",\n",
    "    orig_report_date date,\n",
    "    orig_report_time time without time zone,\n",
    "    transaction_code character varying COLLATE pg_catalog.\"default\",\n",
    "    transaction_date date,\n",
    "    upload_date date,\n",
    "    upload_first_byte character varying COLLATE pg_catalog.\"default\",\n",
    "    upload_dot_number character varying COLLATE pg_catalog.\"default\",\n",
    "    upload_search_indicator character varying COLLATE pg_catalog.\"default\",\n",
    "    census_search_date date,\n",
    "    mcmis_add_date date,\n",
    "    change_by_user character varying COLLATE pg_catalog.\"default\",\n",
    "    change_date date,\n",
    "    change_by_appl character varying COLLATE pg_catalog.\"default\",\n",
    "    snet_input_date date,\n",
    "    source_office character varying COLLATE pg_catalog.\"default\",\n",
    "    CONSTRAINT pk_inpection_id_temp PRIMARY KEY (inspection_id)\n",
    ")\n",
    "\"\"\")\n",
    "\n",
    "conn.commit()"
   ]
  },
  {
   "cell_type": "code",
   "execution_count": 7,
   "metadata": {},
   "outputs": [],
   "source": [
    "#Change the filename here everytime \n",
    "with open(r'C:\\Users\\YoungW\\OneDrive - Informa plc\\Documents\\Insp_01012020_01092020\\Insp_Pub_01012020_01092020.txt', 'r+') as f:\n",
    "    cur.copy_from(f, 'fleetseek.inspection_temp', null = '')\n",
    "    conn.commit()\n",
    "    "
   ]
  },
  {
   "cell_type": "markdown",
   "metadata": {},
   "source": [
    "# Compares the temporary table and table with current data"
   ]
  },
  {
   "cell_type": "code",
   "execution_count": 8,
   "metadata": {},
   "outputs": [],
   "source": [
    "# ON CONFLICT ignores any rows where an inspection_id already exists\n",
    "# Once the information is inserted the temporary tables get dropped\n",
    "cur.execute(\"\"\"\n",
    "insert into fleetseek.inspection (inspection_id, dot_number,report_state, report_number, insp_date,\tinsp_start_time,\t\n",
    "                                  insp_end_time,\tregistration_date,\tregion,\tci_status_code,\tsafety_inspector_key,\t\n",
    "                                  location,\tlocation_desc,\tcounty_code_state,\tcounty_code,\tinsp_level_id,\t\n",
    "                                  service_center,\tcensus_source_id,\tinsp_facility,\tshipper_name,\tshipping_paper_number,\t\n",
    "                                  cargo_tank,\thazmat_placard_req,\taspen_version_number,\tsnet_version_number,\t\n",
    "                                  snet_search_date,\talcohol_control_sub,\tdrug_intrdctn_search,\tdrug_intrdctn_arrests,\t\n",
    "                                  size_weight_enf,\ttraffic_enf,\tlocal_enf_jurisdiction,\tinsp_confidence_level,\t\n",
    "                                  pen_cen_match,\tpenfield2,\tpenfield3,\tfinal_status_date,\tpost_acc_ind,\tgross_comb_veh_wt,\t\n",
    "                                  defect_ver,\toos_defect_ver,\tviol_not_sent,\toos_not_sent,\tviol_total,\toos_total,\t\n",
    "                                  driver_viol_total,\tdriver_oos_total,\tvehicle_viol_total,\tvehicle_oos_total,\thazmat_viol_total,\t\n",
    "                                  hazmat_oos_total,\tsnet_sequence_id,\torig_report_state,\torig_report_number,\torig_report_date,\t\n",
    "                                  orig_report_time,\ttransaction_code,\ttransaction_date,\tupload_date,\tupload_first_byte,\t\n",
    "                                  upload_dot_number,\tupload_search_indicator,\tcensus_search_date,\tmcmis_add_date,\t\n",
    "                                  change_by_user,\tchange_date,\tchange_by_appl,\tsnet_input_date,\tsource_office,\t\n",
    "                                  insp_date_start_date_time,\tinsp_date_end_date_time,\tcounty_name)\n",
    "\n",
    "select it.inspection_id, it.dot_number,it.report_state, it.report_number, it.insp_date,\tit.insp_start_time,\t\n",
    "                                  it.insp_end_time,\tit.registration_date,\tit.region,\tit.ci_status_code,\tit.safety_inspector_key,\t\n",
    "                                  it.location,\tit.location_desc,\tit.county_code_state,\tit.county_code,\tit.insp_level_id,\t\n",
    "                                  it.service_center,\tit.census_source_id,\tit.insp_facility,\tit.shipper_name,\tit.shipping_paper_number,\t\n",
    "                                  it.cargo_tank,\tit.hazmat_placard_req,\tit.aspen_version_number,\tit.snet_version_number,\t\n",
    "                                  it.snet_search_date,\tit.alcohol_control_sub,\tit.drug_intrdctn_search,\tit.drug_intrdctn_arrests,\t\n",
    "                                  it.size_weight_enf,\tit.traffic_enf,\tit.local_enf_jurisdiction,\tit.insp_confidence_level,\t\n",
    "                                  it.pen_cen_match,\tit.penfield2,\tit.penfield3,\tit.final_status_date,\tit.post_acc_ind,\tit.gross_comb_veh_wt,\t\n",
    "                                  it.defect_ver,\tit.oos_defect_ver,\tit.viol_not_sent,\tit.oos_not_sent,\tit.viol_total,\tit.oos_total,\t\n",
    "                                  it.driver_viol_total,\tit.driver_oos_total,\tit.vehicle_viol_total,\tit.vehicle_oos_total,\tit.hazmat_viol_total,\t\n",
    "                                  it.hazmat_oos_total,\tit.snet_sequence_id,\tit.orig_report_state,\tit.orig_report_number,\tit.orig_report_date,\t\n",
    "                                  it.orig_report_time,\tit.transaction_code,\tit.transaction_date,\tit.upload_date,\tit.upload_first_byte,\t\n",
    "                                  it.upload_dot_number,\tit.upload_search_indicator,\tit.census_search_date,\tit.mcmis_add_date,\t\n",
    "                                  it.change_by_user,\tit.change_date,\tit.change_by_appl,\tit.snet_input_date,\tit.source_office,\n",
    "                                  concat(it.insp_date, ' ', it.insp_start_time)::timestamp without time zone, concat(it.insp_date, ' ', it.insp_end_time)::timestamp without time zone,\n",
    "                                  mc.countyname\n",
    "\n",
    "from fleetseek.inspection_temp as it\n",
    "join mcmiscounty as mc\n",
    "on it.report_state = mc.statecode and\n",
    "it.county_code::integer = mc.countycode\n",
    "\n",
    "on conflict (inspection_id) do nothing;\n",
    "\n",
    "DROP TABLE fleetseek.inspection_temp;\n",
    "\n",
    "\"\"\")\n",
    "conn.commit()"
   ]
  },
  {
   "cell_type": "markdown",
   "metadata": {},
   "source": [
    "# 1/10/2020 Insp_Carrier_Pub test\n",
    "\n",
    "#### Had to change the '\\\\' to '/' in order for copy_from to correctly read the file"
   ]
  },
  {
   "cell_type": "code",
   "execution_count": 9,
   "metadata": {},
   "outputs": [],
   "source": [
    "password = 'Evergreen1'\n",
    "\n",
    "conn = p.connect(database = 'postgres', user = 'postgres', password = password, \n",
    "                       host = 'localhost', port = 5433)\n",
    "\n",
    "cur = conn.cursor()"
   ]
  },
  {
   "cell_type": "code",
   "execution_count": 10,
   "metadata": {},
   "outputs": [],
   "source": [
    "cur.execute(\"\"\"\n",
    "CREATE TABLE fleetseek.insp_carrier_pub_temp\n",
    "(\n",
    "    insp_carrier_id integer NOT NULL,\n",
    "    inspection_id integer,\n",
    "    insp_carrier_name character varying COLLATE pg_catalog.\"default\",\n",
    "    insp_carrier_street character varying COLLATE pg_catalog.\"default\",\n",
    "    insp_carrier_city character varying COLLATE pg_catalog.\"default\",\n",
    "    insp_carrier_state character varying COLLATE pg_catalog.\"default\",\n",
    "    insp_carrier_zip_code character varying COLLATE pg_catalog.\"default\",\n",
    "    insp_colonia character varying COLLATE pg_catalog.\"default\",\n",
    "    prefix character varying COLLATE pg_catalog.\"default\",\n",
    "    docket_number integer,\n",
    "    insp_intertate character varying COLLATE pg_catalog.\"default\",\n",
    "    insp_carrier_state_id character varying COLLATE pg_catalog.\"default\",\n",
    "    CONSTRAINT fk_insp_carrier_id_temp PRIMARY KEY (insp_carrier_id)\n",
    ");\n",
    "\"\"\")\n",
    "conn.commit()"
   ]
  },
  {
   "cell_type": "markdown",
   "metadata": {},
   "source": [
    "## Change the name here everytime so it picks up the correct file"
   ]
  },
  {
   "cell_type": "code",
   "execution_count": 11,
   "metadata": {},
   "outputs": [],
   "source": [
    "with open(r'C:\\Users\\YoungW\\OneDrive - Informa plc\\Documents\\Insp_01012020_01092020\\Insp_Carrier_Pub_01012020_01092020.txt', 'r') as f:\n",
    "    cur.copy_from(f, 'fleetseek.insp_carrier_pub_temp', null = '')\n",
    "    conn.commit()"
   ]
  },
  {
   "cell_type": "code",
   "execution_count": 12,
   "metadata": {},
   "outputs": [],
   "source": [
    "cur.execute(\"\"\" \n",
    "insert into fleetseek.insp_carrier_pub\n",
    "select *\n",
    "from fleetseek.insp_carrier_pub_temp \n",
    "on conflict(insp_carrier_id) do nothing; \n",
    "\n",
    "DROP TABLE fleetseek.insp_carrier_pub_temp;\n",
    "\"\"\")\n",
    "conn.commit()        "
   ]
  },
  {
   "cell_type": "markdown",
   "metadata": {},
   "source": [
    "## Insp_study_pub\n",
    "\n",
    "#### 1/10/2020"
   ]
  },
  {
   "cell_type": "code",
   "execution_count": 13,
   "metadata": {},
   "outputs": [],
   "source": [
    "cur.execute(\"\"\"\n",
    "CREATE TABLE fleetseek.insp_study_pub_temp\n",
    "(\n",
    "    insp_study_id integer NOT NULL,\n",
    "    inspection_id integer,\n",
    "    study character varying COLLATE pg_catalog.\"default\",\n",
    "    seq_no character varying COLLATE pg_catalog.\"default\",\n",
    "    CONSTRAINT pk_insp_study_temp_id PRIMARY KEY (insp_study_id)\n",
    ")\n",
    "\"\"\")\n",
    "conn.commit()"
   ]
  },
  {
   "cell_type": "code",
   "execution_count": 14,
   "metadata": {},
   "outputs": [],
   "source": [
    "with open(r'C:\\Users\\YoungW\\OneDrive - Informa plc\\Documents\\Insp_01012020_01092020\\Insp_Study_Pub_01012020_01092020.txt', 'r') as f:\n",
    "    cur.copy_from(f, 'fleetseek.insp_study_pub_temp', null = '')\n",
    "    conn.commit()"
   ]
  },
  {
   "cell_type": "code",
   "execution_count": 15,
   "metadata": {},
   "outputs": [],
   "source": [
    "# Drops the temp table after inserting new data into actual table\n",
    "\n",
    "cur.execute(\"\"\"\n",
    "insert into fleetseek.insp_study_pub\n",
    "select *\n",
    "from fleetseek.insp_study_pub_temp\n",
    "on conflict(insp_study_id) do nothing;\n",
    "\n",
    "DROP TABLE fleetseek.insp_study_pub_temp;\n",
    "\"\"\")\n",
    "conn.commit()"
   ]
  },
  {
   "cell_type": "markdown",
   "metadata": {},
   "source": [
    "## Insp_Supp_Violation\n",
    "\n",
    "#### 1/10/2020: this one might be slightly different due to there being no primary/foreign keys"
   ]
  },
  {
   "cell_type": "code",
   "execution_count": 16,
   "metadata": {},
   "outputs": [],
   "source": [
    "# 1/10/2020 Loop back to this one because it may be a straight insert due to no primary and foreign keys\n",
    "# Likely won't need to maintain this table\n",
    "#cur.execute(\"\"\"\n",
    "#CREATE TABLE fleetseek.insp_supp_violation_temp\n",
    "#(\n",
    "#    insp_violation_id character varying COLLATE pg_catalog.\"default\",\n",
    "#    supp_desc character varying COLLATE pg_catalog.\"default\"\n",
    "#)\n",
    "#\"\"\")"
   ]
  },
  {
   "cell_type": "markdown",
   "metadata": {},
   "source": [
    "## Insp_Unit_Pub\n",
    "\n",
    "#### 1/10/2020"
   ]
  },
  {
   "cell_type": "code",
   "execution_count": 17,
   "metadata": {},
   "outputs": [],
   "source": [
    "cur.execute(\"\"\"\n",
    "CREATE TABLE fleetseek.insp_unit_pub_temp\n",
    "(\n",
    "    unit_id integer NOT NULL,\n",
    "    inspection_id integer,\n",
    "    unit_type_id integer,\n",
    "    unit_number integer,\n",
    "    unit_make character varying COLLATE pg_catalog.\"default\",\n",
    "    unit_company_number character varying COLLATE pg_catalog.\"default\",\n",
    "    unit_license character varying COLLATE pg_catalog.\"default\",\n",
    "    unit_license_state character varying COLLATE pg_catalog.\"default\",\n",
    "    unit_vehicle_id_number character varying COLLATE pg_catalog.\"default\",\n",
    "    decal_issued character varying COLLATE pg_catalog.\"default\",\n",
    "    unit_decal_number character varying COLLATE pg_catalog.\"default\",\n",
    "    CONSTRAINT pk_unit_id_temp PRIMARY KEY (unit_id)\n",
    "\n",
    ")\n",
    "\"\"\")\n",
    "conn.commit()"
   ]
  },
  {
   "cell_type": "code",
   "execution_count": 18,
   "metadata": {},
   "outputs": [],
   "source": [
    "with open(r'C:\\Users\\YoungW\\OneDrive - Informa plc\\Documents\\Insp_01012020_01092020\\Insp_Unit_Pub_01012020_01092020.txt', 'r') as f:\n",
    "    cur.copy_from(f, 'fleetseek.insp_unit_pub_temp', null = '')\n",
    "    conn.commit()"
   ]
  },
  {
   "cell_type": "code",
   "execution_count": 19,
   "metadata": {},
   "outputs": [],
   "source": [
    "cur.execute(\"\"\"\n",
    "insert into fleetseek.insp_unit_pub\n",
    "select *\n",
    "\n",
    "from fleetseek.insp_unit_pub_temp\n",
    "on conflict(unit_id) do nothing;\n",
    "\n",
    "DROP TABLE fleetseek.insp_unit_pub_temp\n",
    "\"\"\")\n",
    "conn.commit()"
   ]
  },
  {
   "cell_type": "markdown",
   "metadata": {},
   "source": [
    "## Insp_Viol_Pub\n",
    "\n",
    "#### 1/10/2020"
   ]
  },
  {
   "cell_type": "code",
   "execution_count": 20,
   "metadata": {},
   "outputs": [],
   "source": [
    "cur.execute(\"\"\"\n",
    "CREATE TABLE fleetseek.insp_viol_pub_temp\n",
    "(\n",
    "    violation_id integer NOT NULL,\n",
    "    inspection_id integer,\n",
    "    viol_seq_no character varying COLLATE pg_catalog.\"default\",\n",
    "    viol_part_no character varying COLLATE pg_catalog.\"default\",\n",
    "    part_no_section character varying COLLATE pg_catalog.\"default\",\n",
    "    insp_viol_unit character varying COLLATE pg_catalog.\"default\",\n",
    "    insp_unit_id integer,\n",
    "    insp_viol_gategory_id character varying COLLATE pg_catalog.\"default\",\n",
    "    out_of_service_indicator character varying COLLATE pg_catalog.\"default\",\n",
    "    defect_verification_id integer,\n",
    "    citation_no character varying COLLATE pg_catalog.\"default\",\n",
    "    part_section_id integer,\n",
    "    CONSTRAINT pk_violation_id_temp PRIMARY KEY (violation_id)\n",
    ")\n",
    "\"\"\")\n",
    "conn.commit()"
   ]
  },
  {
   "cell_type": "code",
   "execution_count": 21,
   "metadata": {},
   "outputs": [],
   "source": [
    "with open(r'C:\\Users\\YoungW\\OneDrive - Informa plc\\Documents\\Insp_01012020_01092020\\Insp_Viol_Pub_01012020_01092020.txt', 'r') as f:\n",
    "    cur.copy_from(f, 'fleetseek.insp_viol_pub_temp', null = '')\n",
    "    conn.commit()"
   ]
  },
  {
   "cell_type": "code",
   "execution_count": 22,
   "metadata": {},
   "outputs": [],
   "source": [
    "cur.execute(\"\"\"\n",
    "insert into fleetseek.insp_viol_pub\n",
    "select *\n",
    "from fleetseek.insp_viol_pub_temp\n",
    "on conflict (violation_id) do nothing;\n",
    "\n",
    "DROP TABLE fleetseek.insp_viol_pub_temp;\n",
    "\"\"\")\n",
    "conn.commit()"
   ]
  },
  {
   "cell_type": "markdown",
   "metadata": {},
   "source": [
    "## Insp_ViolShip_Pub\n",
    "\n",
    "#### 1/10/2020"
   ]
  },
  {
   "cell_type": "code",
   "execution_count": 23,
   "metadata": {},
   "outputs": [],
   "source": [
    "cur.execute(\"\"\"\n",
    "CREATE TABLE fleetseek.insp_viol_shipper_temp\n",
    "(\n",
    "    insp_viol_shipper_id integer NOT NULL,\n",
    "    insp_viol_id integer,\n",
    "    shipper_name character varying COLLATE pg_catalog.\"default\",\n",
    "    shipper_street character varying COLLATE pg_catalog.\"default\",\n",
    "    shipper_city character varying COLLATE pg_catalog.\"default\",\n",
    "    shipper_state character varying COLLATE pg_catalog.\"default\",\n",
    "    shipper_zip_code character varying COLLATE pg_catalog.\"default\",\n",
    "    shipper_first_byte character varying COLLATE pg_catalog.\"default\",\n",
    "    shipper_dot_number character varying COLLATE pg_catalog.\"default\",\n",
    "    part_no character varying COLLATE pg_catalog.\"default\",\n",
    "    part_no_section character varying COLLATE pg_catalog.\"default\",\n",
    "    final_number varchar,\n",
    "    CONSTRAINT pk_insp_viol_shipper_id_temp PRIMARY KEY (insp_viol_shipper_id)\n",
    ")\n",
    "\n",
    "\"\"\")\n",
    "conn.commit()"
   ]
  },
  {
   "cell_type": "code",
   "execution_count": 24,
   "metadata": {},
   "outputs": [],
   "source": [
    "with open(r'C:\\Users\\YoungW\\OneDrive - Informa plc\\Documents\\Insp_01012020_01092020\\Insp_ViolShip_Pub_01012020_01092020.txt', 'r') as f:\n",
    "    cur.copy_from(f, 'fleetseek.insp_viol_shipper_temp', null = '')\n",
    "    conn.commit()"
   ]
  },
  {
   "cell_type": "code",
   "execution_count": 25,
   "metadata": {},
   "outputs": [],
   "source": [
    "cur.execute(\"\"\"\n",
    "insert into fleetseek.insp_viol_shipper\n",
    "select \n",
    "    insp_viol_shipper_id,\n",
    "    insp_viol_id,\n",
    "    shipper_name,\n",
    "    shipper_street,\n",
    "    shipper_city,\n",
    "    shipper_state,\n",
    "    shipper_zip_code,\n",
    "    shipper_first_byte,\n",
    "    shipper_dot_number,\n",
    "    part_no,\n",
    "    part_no_section\n",
    "from fleetseek.insp_viol_shipper_temp\n",
    "on conflict (insp_viol_shipper_id) do nothing;\n",
    "\n",
    "DROP TABLE fleetseek.insp_viol_shipper_temp;\n",
    "\"\"\")\n",
    "conn.commit()"
   ]
  },
  {
   "cell_type": "markdown",
   "metadata": {},
   "source": [
    "## CrashCarrier\n",
    "\n",
    "#### 1/10/2020"
   ]
  },
  {
   "cell_type": "code",
   "execution_count": 47,
   "metadata": {},
   "outputs": [],
   "source": [
    "cur.execute(\"\"\"\n",
    "CREATE TABLE fleetseek.crash_carrier_temp\n",
    "(\n",
    "    crash_carrier_id integer NOT NULL,\n",
    "    crash_id integer,\n",
    "    carrier_source_code integer,\n",
    "    crash_carrier_name character varying COLLATE pg_catalog.\"default\",\n",
    "    crash_carrier_street character varying COLLATE pg_catalog.\"default\",\n",
    "    crash_carrier_city character varying COLLATE pg_catalog.\"default\",\n",
    "    crash_carrier_city_code character varying COLLATE pg_catalog.\"default\",\n",
    "    crash_carrier_state character varying COLLATE pg_catalog.\"default\",\n",
    "    crash_carrier_zip_code character varying COLLATE pg_catalog.\"default\",\n",
    "    crash_colonia character varying COLLATE pg_catalog.\"default\",\n",
    "    prefix character varying COLLATE pg_catalog.\"default\",\n",
    "    docket_number integer,\n",
    "    crash_carrier_interstate character varying COLLATE pg_catalog.\"default\",\n",
    "    no_id_flag character varying COLLATE pg_catalog.\"default\",\n",
    "    state_number character varying COLLATE pg_catalog.\"default\",\n",
    "    state_issuing_number character varying COLLATE pg_catalog.\"default\",\n",
    "    CONSTRAINT pk_crash_carrier_id_temp PRIMARY KEY (crash_carrier_id)\n",
    ")\n",
    "\"\"\")\n",
    "conn.commit()"
   ]
  },
  {
   "cell_type": "code",
   "execution_count": 48,
   "metadata": {},
   "outputs": [],
   "source": [
    "with open(r'C:\\Users\\YoungW\\OneDrive - Informa plc\\Documents\\Crash_01012020_01092020\\CrashCarrier_01012020_01092020.txt', 'r') as f:\n",
    "    cur.copy_from(f, 'fleetseek.crash_carrier_temp', null = '')\n",
    "    conn.commit()"
   ]
  },
  {
   "cell_type": "code",
   "execution_count": 49,
   "metadata": {},
   "outputs": [],
   "source": [
    "cur.execute(\"\"\"\n",
    "insert into fleetseek.crash_carrier\n",
    "select *\n",
    "from fleetseek.crash_carrier_temp\n",
    "on conflict (crash_carrier_id) do nothing;\n",
    "\n",
    "DROP TABLE fleetseek.crash_carrier_temp;\n",
    "\"\"\")\n",
    "conn.commit()"
   ]
  },
  {
   "cell_type": "markdown",
   "metadata": {},
   "source": [
    "## CrashEvent\n",
    "\n",
    "#### 1/10/2020"
   ]
  },
  {
   "cell_type": "code",
   "execution_count": 50,
   "metadata": {},
   "outputs": [],
   "source": [
    "cur.execute(\"\"\"\n",
    "CREATE TABLE fleetseek.crash_event_temp\n",
    "(\n",
    "    crash_event_id integer NOT NULL,\n",
    "    crash_id integer,\n",
    "    seq_no integer,\n",
    "    event_id integer,\n",
    "    event_other_desc character varying COLLATE pg_catalog.\"default\",\n",
    "    CONSTRAINT pk_crash_event_id_temp PRIMARY KEY (crash_event_id)\n",
    ")\n",
    "\"\"\")\n",
    "conn.commit()"
   ]
  },
  {
   "cell_type": "code",
   "execution_count": 51,
   "metadata": {},
   "outputs": [],
   "source": [
    "with open(r'C:\\Users\\YoungW\\OneDrive - Informa plc\\Documents\\Crash_01012020_01092020\\CrashEvent_01012020_01092020.txt', 'r') as f:\n",
    "    cur.copy_from(f, 'fleetseek.crash_event_temp', null = '')\n",
    "    conn.commit()"
   ]
  },
  {
   "cell_type": "code",
   "execution_count": 52,
   "metadata": {},
   "outputs": [],
   "source": [
    "cur.execute(\"\"\"\n",
    "insert into fleetseek.crash_event\n",
    "select *\n",
    "from fleetseek.crash_event_temp\n",
    "on conflict (crash_event_id) do nothing;\n",
    "\n",
    "DROP TABLE fleetseek.crash_event_temp;\n",
    "\"\"\")\n",
    "conn.commit()"
   ]
  },
  {
   "cell_type": "markdown",
   "metadata": {},
   "source": [
    "## CrashMaster\n",
    "\n",
    "#### 1/10/2020"
   ]
  },
  {
   "cell_type": "code",
   "execution_count": 53,
   "metadata": {},
   "outputs": [],
   "source": [
    "password = 'Evergreen1'\n",
    "\n",
    "conn = p.connect(database = 'postgres', user = 'postgres', password = password, \n",
    "                       host = 'localhost', port = 5433)\n",
    "\n",
    "cur = conn.cursor()"
   ]
  },
  {
   "cell_type": "code",
   "execution_count": 54,
   "metadata": {},
   "outputs": [],
   "source": [
    "\n",
    "cur.execute(\"\"\"\n",
    "CREATE TABLE fleetseek.crash_master_temp\n",
    "(\n",
    "    crash_id integer NOT NULL,\n",
    "    report_state character varying COLLATE pg_catalog.\"default\",\n",
    "    report_number character varying COLLATE pg_catalog.\"default\",\n",
    "    report_date date,\n",
    "    report_time varchar,\n",
    "    report_seq_no character varying COLLATE pg_catalog.\"default\",\n",
    "    dot_number integer,\n",
    "    ci_status_cd character varying COLLATE pg_catalog.\"default\",\n",
    "    final_status_date date,\n",
    "    location character varying COLLATE pg_catalog.\"default\",\n",
    "    city_code character varying COLLATE pg_catalog.\"default\",\n",
    "    city character varying COLLATE pg_catalog.\"default\",\n",
    "    state character varying COLLATE pg_catalog.\"default\",\n",
    "    county_code character varying COLLATE pg_catalog.\"default\",\n",
    "    truck_bus_ind character varying COLLATE pg_catalog.\"default\",\n",
    "    trafficway_id integer,\n",
    "    access_control_id integer,\n",
    "    road_surface_condition_id integer,\n",
    "    cargo_body_type_id integer,\n",
    "    gvw_rating_id integer,\n",
    "    vehicle_identification_number character varying COLLATE pg_catalog.\"default\",\n",
    "    vehicle_license_number character varying COLLATE pg_catalog.\"default\",\n",
    "    vehicle_lic_state character varying COLLATE pg_catalog.\"default\",\n",
    "    vehicle_hazmat_placard character varying COLLATE pg_catalog.\"default\",\n",
    "    weather_condition_id integer,\n",
    "    vehicle_configuration_id integer,\n",
    "    light_condition_id integer,\n",
    "    hazmat_released character varying COLLATE pg_catalog.\"default\",\n",
    "    agency character varying COLLATE pg_catalog.\"default\",\n",
    "    officer_badge character varying COLLATE pg_catalog.\"default\",\n",
    "    vehicles_in_accident character varying COLLATE pg_catalog.\"default\",\n",
    "    fatalities integer,\n",
    "    injuries integer,\n",
    "    tow_away character varying COLLATE pg_catalog.\"default\",\n",
    "    federal_recordable character varying COLLATE pg_catalog.\"default\",\n",
    "    state_recordable character varying COLLATE pg_catalog.\"default\",\n",
    "    snet_version_number character varying COLLATE pg_catalog.\"default\",\n",
    "    snet_sequence_id character varying COLLATE pg_catalog.\"default\",\n",
    "    transaction_code character varying COLLATE pg_catalog.\"default\",\n",
    "    transaction_date date,\n",
    "    upload_first_byte character varying COLLATE pg_catalog.\"default\",\n",
    "    upload_dot_number character varying COLLATE pg_catalog.\"default\",\n",
    "    upload_search_indicator character varying COLLATE pg_catalog.\"default\",\n",
    "    upload_date date,\n",
    "    census_search_date date,\n",
    "    add_date date,\n",
    "    change_date date,\n",
    "    change_by_user character varying COLLATE pg_catalog.\"default\",\n",
    "    change_by_appl character varying COLLATE pg_catalog.\"default\",\n",
    "    snet_input_date date,\n",
    "    CONSTRAINT pk_crash_id_temp PRIMARY KEY (crash_id)\n",
    ")\n",
    "\"\"\")\n",
    "            \n",
    "conn.commit()"
   ]
  },
  {
   "cell_type": "code",
   "execution_count": 55,
   "metadata": {},
   "outputs": [],
   "source": [
    "with open(r'C:\\Users\\YoungW\\OneDrive - Informa plc\\Documents\\Crash_01012020_01092020\\CrashMaster_01012020_01092020.txt', 'r') as f:\n",
    "    cur.copy_from(f, 'fleetseek.crash_master_temp', null = '')\n",
    "    conn.commit()"
   ]
  },
  {
   "cell_type": "code",
   "execution_count": 56,
   "metadata": {},
   "outputs": [],
   "source": [
    "# After creating the temporary table all report times with '9999' get changed to '0439'\n",
    "# It appears this is how the previous process worked and I am keeping it that was as well.\n",
    "\n",
    "cur.execute(\"\"\"update fleetseek.crash_master_temp\n",
    "set report_time = '0439'\n",
    "where report_time = '9999';\n",
    "\n",
    "alter table fleetseek.crash_master_temp\n",
    "alter column report_time type time without time zone using report_time::time without time zone;\n",
    "\n",
    "insert into fleetseek.crash_master\n",
    "select *\n",
    "from fleetseek.crash_master_temp\n",
    "on conflict (crash_id) do nothing;\n",
    "\n",
    "DROP TABLE fleetseek.crash_master_temp;\n",
    "\"\"\")\n",
    "\n",
    "conn.commit()\n",
    "conn.close()"
   ]
  },
  {
   "cell_type": "code",
   "execution_count": 153,
   "metadata": {},
   "outputs": [],
   "source": [
    "end_time = time.time() - start_time"
   ]
  },
  {
   "cell_type": "code",
   "execution_count": 154,
   "metadata": {},
   "outputs": [
    {
     "name": "stdout",
     "output_type": "stream",
     "text": [
      "218.90823602676392\n"
     ]
    }
   ],
   "source": [
    "print(end_time)"
   ]
  }
 ],
 "metadata": {
  "kernelspec": {
   "display_name": "Python 3",
   "language": "python",
   "name": "python3"
  },
  "language_info": {
   "codemirror_mode": {
    "name": "ipython",
    "version": 3
   },
   "file_extension": ".py",
   "mimetype": "text/x-python",
   "name": "python",
   "nbconvert_exporter": "python",
   "pygments_lexer": "ipython3",
   "version": "3.7.4"
  }
 },
 "nbformat": 4,
 "nbformat_minor": 4
}
